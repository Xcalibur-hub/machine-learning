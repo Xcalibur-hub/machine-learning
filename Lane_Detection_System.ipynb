{
  "nbformat": 4,
  "nbformat_minor": 0,
  "metadata": {
    "colab": {
      "provenance": [],
      "authorship_tag": "ABX9TyMgauZZp6ZK7p6ijZo3HBzr",
      "include_colab_link": true
    },
    "kernelspec": {
      "name": "python3",
      "display_name": "Python 3"
    },
    "language_info": {
      "name": "python"
    }
  },
  "cells": [
    {
      "cell_type": "markdown",
      "metadata": {
        "id": "view-in-github",
        "colab_type": "text"
      },
      "source": [
        "<a href=\"https://colab.research.google.com/github/Xcalibur-hub/machine-learning/blob/main/Lane_Detection_System.ipynb\" target=\"_parent\"><img src=\"https://colab.research.google.com/assets/colab-badge.svg\" alt=\"Open In Colab\"/></a>"
      ]
    },
    {
      "cell_type": "markdown",
      "source": [
        "Download the following Dataset to run the code\n",
        "\n",
        " https://drive.google.com/file/d/1ePP7ioTxuv6T0t7S6mT4tGE53XCyohjZ/view?usp=sharing\n",
        ""
      ],
      "metadata": {
        "id": "hvlDcsGlN-n5"
      }
    },
    {
      "cell_type": "markdown",
      "source": [
        "# New Section"
      ],
      "metadata": {
        "id": "fs8p2HmTMhfA"
      }
    },
    {
      "cell_type": "code",
      "source": [
        "from google.colab import drive\n",
        "drive.mount('/content/drive')"
      ],
      "metadata": {
        "id": "7A3vIR6ENoOo"
      },
      "execution_count": null,
      "outputs": []
    },
    {
      "cell_type": "code",
      "execution_count": null,
      "metadata": {
        "id": "WwO5aeIrKmmp"
      },
      "outputs": [],
      "source": [
        "\n",
        "\n",
        "\n",
        "import ML_CV_Teaching.lane_detection.lane_pkg as lp\n",
        "import matplotlib.pyplot as plt\n",
        "import matplotlib.image as mpimg\n",
        "import cv2\n",
        "import numpy as np\n",
        "from moviepy.editor import VideoFileClip\n",
        "\n",
        "# Load and display the image\n",
        "image = mpimg.imread('ML_CV_Teaching/lane_detection/test_images/solidWhiteRight.jpg')\n",
        "plt.imshow(image)\n",
        "\n",
        "def process_image(image):\n",
        "    # Convert to grayscale\n",
        "    gray = lp.grayscale(image)\n",
        "\n",
        "    # Apply Gaussian blur\n",
        "    blurred = lp.gaussian_blur(gray, 5)\n",
        "\n",
        "    # Detect edges\n",
        "    edges = lp.canny(blurred, 50, 150)\n",
        "\n",
        "    # Define region of interest and mask edges\n",
        "    roi_mask = np.array([[(0, image.shape[0]), (465, 320), (475, 320), (image.shape[1], image.shape[0])]], dtype=np.int32)\n",
        "    masked_edges = lp.region_of_interest(edges, roi_mask)\n",
        "\n",
        "    # Detect lines using Hough Transform\n",
        "    lines = lp.hough_lines(masked_edges)\n",
        "\n",
        "    # Combine original image with detected lines\n",
        "    result = cv2.addWeighted(image, 0.8, lines, 1, 0)\n",
        "    return result\n",
        "\n",
        "# Process and display the result\n",
        "marked_img = process_image(image)\n",
        "plt.imshow(marked_img)\n",
        "\n",
        "# Process video function\n",
        "def process_video(video_path, output_path):\n",
        "    clip = VideoFileClip(video_path)\n",
        "    processed_clip = clip.fl_image(process_image)\n",
        "    processed_clip.write_videofile(output_path, audio=False)\n",
        "\n",
        "# Process videos\n",
        "process_video('ML_CV_Teaching/lane_detection/test_videos/solidWhiteRight.mp4', 'clip1_out.mp4')\n",
        "process_video('ML_CV_Teaching/lane_detection/test_videos/solidYellowLeft.mp4', 'clip2_out.mp4')\n",
        "\n"
      ]
    }
  ]
}